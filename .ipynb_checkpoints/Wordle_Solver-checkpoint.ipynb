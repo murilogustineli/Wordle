{
 "cells": [
  {
   "cell_type": "markdown",
   "id": "6051ded5",
   "metadata": {},
   "source": [
    "# Wordle Solver"
   ]
  },
  {
   "cell_type": "code",
   "execution_count": 5,
   "id": "7710c30f",
   "metadata": {},
   "outputs": [],
   "source": [
    "%run -i wordle_functions.py"
   ]
  },
  {
   "cell_type": "code",
   "execution_count": 6,
   "id": "fc0dc4ad",
   "metadata": {},
   "outputs": [
    {
     "name": "stdout",
     "output_type": "stream",
     "text": [
      "Help on function main in module __main__:\n",
      "\n",
      "main(good_letters, letter_positions, yellow_letters, bad_letters)\n",
      "    Function takes  4 arguments:\n",
      "    1. good_letters --> string that represents green letters in wordle guess\n",
      "    2. letter_positions --> list of the positions of the good_letters ranging from 1 to 5\n",
      "    3. yellow_letters --> string that represents yellow letters in wordle guess\n",
      "    4. bad_letters --> string that represents gray letters in wordle guess\n",
      "\n"
     ]
    }
   ],
   "source": [
    "help(main)"
   ]
  },
  {
   "cell_type": "code",
   "execution_count": 71,
   "id": "2c55f501",
   "metadata": {},
   "outputs": [
    {
     "name": "stdout",
     "output_type": "stream",
     "text": [
      "['filer', 'flier', 'idler', 'liver', 'rifle']\n"
     ]
    }
   ],
   "source": [
    "# Main function that returns a list of possible words\n",
    "good_letters = ''\n",
    "letter_positions = []\n",
    "yellow_letters = 'RELI'\n",
    "bad_letters = 'CANSHOUTBMP'\n",
    "\n",
    "# Main function that returns a list of possible words\n",
    "main(good_letters, letter_positions, yellow_letters, bad_letters)"
   ]
  },
  {
   "cell_type": "markdown",
   "id": "476b0db2",
   "metadata": {
    "tags": []
   },
   "source": [
    "#### Good words:\n",
    "SALET, CRANE, SHOUT, AUDIO, SLICE, SLICK, SPLIT, STUDY, INCUR, CHOIR, CROWN, CROWD, CRONE, POISE, OLIVE, DUNCE, BINGO, BISON"
   ]
  },
  {
   "cell_type": "code",
   "execution_count": 59,
   "id": "a7ac3cc2",
   "metadata": {},
   "outputs": [],
   "source": [
    "# BERTH, ETHER"
   ]
  },
  {
   "cell_type": "code",
   "execution_count": 70,
   "id": "f96d1270",
   "metadata": {},
   "outputs": [
    {
     "name": "stdout",
     "output_type": "stream",
     "text": [
      "['bicep', 'blimp', 'pubic']\n"
     ]
    }
   ],
   "source": [
    "# Main function that returns a list of possible words\n",
    "good_letters = ''\n",
    "letter_positions = []\n",
    "yellow_letters = 'BPI'\n",
    "bad_letters = ''\n",
    "\n",
    "# Main function that returns a list of possible words\n",
    "main(good_letters, letter_positions, yellow_letters, bad_letters)"
   ]
  },
  {
   "cell_type": "code",
   "execution_count": 61,
   "id": "2d5ac605",
   "metadata": {},
   "outputs": [],
   "source": [
    "# help(score)"
   ]
  },
  {
   "cell_type": "code",
   "execution_count": 62,
   "id": "b499032b",
   "metadata": {},
   "outputs": [
    {
     "data": {
      "text/html": [
       "<div>\n",
       "<style scoped>\n",
       "    .dataframe tbody tr th:only-of-type {\n",
       "        vertical-align: middle;\n",
       "    }\n",
       "\n",
       "    .dataframe tbody tr th {\n",
       "        vertical-align: top;\n",
       "    }\n",
       "\n",
       "    .dataframe thead th {\n",
       "        text-align: right;\n",
       "    }\n",
       "</style>\n",
       "<table border=\"1\" class=\"dataframe\">\n",
       "  <thead>\n",
       "    <tr style=\"text-align: right;\">\n",
       "      <th></th>\n",
       "      <th>Names</th>\n",
       "      <th>Games_Won</th>\n",
       "      <th>Draw</th>\n",
       "    </tr>\n",
       "  </thead>\n",
       "  <tbody>\n",
       "    <tr>\n",
       "      <th>0</th>\n",
       "      <td>Murilo</td>\n",
       "      <td>9</td>\n",
       "      <td>4</td>\n",
       "    </tr>\n",
       "    <tr>\n",
       "      <th>1</th>\n",
       "      <td>Barbara</td>\n",
       "      <td>3</td>\n",
       "      <td>4</td>\n",
       "    </tr>\n",
       "  </tbody>\n",
       "</table>\n",
       "</div>"
      ],
      "text/plain": [
       "     Names  Games_Won  Draw\n",
       "0   Murilo          9     4\n",
       "1  Barbara          3     4"
      ]
     },
     "execution_count": 62,
     "metadata": {},
     "output_type": "execute_result"
    }
   ],
   "source": [
    "df = load_data(file_name='wordle_ranking.csv')\n",
    "df"
   ]
  },
  {
   "cell_type": "code",
   "execution_count": 63,
   "id": "2f129c33",
   "metadata": {},
   "outputs": [
    {
     "name": "stdin",
     "output_type": "stream",
     "text": [
      "Who won the game? Murilo, Barbara, or Draw? \t\t\n",
      "Enter 'M' if Murilo won. \t\t\n",
      "Enter 'B' if Barbara won. \t\t\n",
      "Enter 'D' if it was a Draw. \t\t\n",
      "Please enter [M/B/D] B\n"
     ]
    },
    {
     "data": {
      "text/html": [
       "<div>\n",
       "<style scoped>\n",
       "    .dataframe tbody tr th:only-of-type {\n",
       "        vertical-align: middle;\n",
       "    }\n",
       "\n",
       "    .dataframe tbody tr th {\n",
       "        vertical-align: top;\n",
       "    }\n",
       "\n",
       "    .dataframe thead th {\n",
       "        text-align: right;\n",
       "    }\n",
       "</style>\n",
       "<table border=\"1\" class=\"dataframe\">\n",
       "  <thead>\n",
       "    <tr style=\"text-align: right;\">\n",
       "      <th></th>\n",
       "      <th>Names</th>\n",
       "      <th>Games_Won</th>\n",
       "      <th>Draw</th>\n",
       "    </tr>\n",
       "  </thead>\n",
       "  <tbody>\n",
       "    <tr>\n",
       "      <th>0</th>\n",
       "      <td>Murilo</td>\n",
       "      <td>9</td>\n",
       "      <td>4</td>\n",
       "    </tr>\n",
       "    <tr>\n",
       "      <th>1</th>\n",
       "      <td>Barbara</td>\n",
       "      <td>4</td>\n",
       "      <td>4</td>\n",
       "    </tr>\n",
       "  </tbody>\n",
       "</table>\n",
       "</div>"
      ],
      "text/plain": [
       "     Names  Games_Won  Draw\n",
       "0   Murilo          9     4\n",
       "1  Barbara          4     4"
      ]
     },
     "execution_count": 63,
     "metadata": {},
     "output_type": "execute_result"
    }
   ],
   "source": [
    "# Update score\n",
    "score_df = score()\n",
    "score_df"
   ]
  },
  {
   "cell_type": "code",
   "execution_count": 64,
   "id": "6cab2a24",
   "metadata": {},
   "outputs": [
    {
     "name": "stdout",
     "output_type": "stream",
     "text": [
      "  Names  Games_Won  Draw\n",
      " Murilo          9     4\n",
      "Barbara          4     4\n"
     ]
    }
   ],
   "source": [
    "# Print results\n",
    "print(score_df.to_string(index=False))"
   ]
  },
  {
   "cell_type": "code",
   "execution_count": 65,
   "id": "91fcd95b",
   "metadata": {},
   "outputs": [],
   "source": [
    "# help(reset_score)"
   ]
  },
  {
   "cell_type": "markdown",
   "id": "6ee899f4",
   "metadata": {},
   "source": [
    "#### Set custom score"
   ]
  },
  {
   "cell_type": "code",
   "execution_count": 66,
   "id": "40997bb1",
   "metadata": {},
   "outputs": [],
   "source": [
    "# Set custom score\n",
    "# df = set_score(m_score, b_score, draw)\n",
    "# df"
   ]
  },
  {
   "cell_type": "markdown",
   "id": "565db484",
   "metadata": {},
   "source": [
    "#### Reset score"
   ]
  },
  {
   "cell_type": "code",
   "execution_count": 67,
   "id": "fc850042",
   "metadata": {},
   "outputs": [],
   "source": [
    "# Reset score\n",
    "# reset_score()"
   ]
  },
  {
   "cell_type": "code",
   "execution_count": null,
   "id": "a4626bb2",
   "metadata": {},
   "outputs": [],
   "source": []
  }
 ],
 "metadata": {
  "kernelspec": {
   "display_name": "Python 3",
   "language": "python",
   "name": "python3"
  },
  "language_info": {
   "codemirror_mode": {
    "name": "ipython",
    "version": 3
   },
   "file_extension": ".py",
   "mimetype": "text/x-python",
   "name": "python",
   "nbconvert_exporter": "python",
   "pygments_lexer": "ipython3",
   "version": "3.7.10"
  }
 },
 "nbformat": 4,
 "nbformat_minor": 5
}
