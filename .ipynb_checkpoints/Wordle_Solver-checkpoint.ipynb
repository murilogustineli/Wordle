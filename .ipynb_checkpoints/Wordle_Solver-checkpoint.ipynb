{
 "cells": [
  {
   "cell_type": "markdown",
   "id": "16cb01c2",
   "metadata": {},
   "source": [
    "# Wordle Solver"
   ]
  },
  {
   "cell_type": "code",
   "execution_count": 5,
   "id": "7e7c067d",
   "metadata": {},
   "outputs": [],
   "source": [
    "%run -i wordle_functions.py"
   ]
  },
  {
   "cell_type": "code",
   "execution_count": 6,
   "id": "b254e3d5",
   "metadata": {},
   "outputs": [
    {
     "name": "stdout",
     "output_type": "stream",
     "text": [
      "Help on function main in module __main__:\n",
      "\n",
      "main(good_letters, letter_positions, yellow_letters, bad_letters)\n",
      "    Function takes  4 arguments:\n",
      "    1. good_letters --> string that represents green letters in wordle guess\n",
      "    2. letter_positions --> list of the positions of the good_letters ranging from 1 to 5\n",
      "    3. yellow_letters --> string that represents yellow letters in wordle guess\n",
      "    4. bad_letters --> string that represents gray letters in wordle guess\n",
      "\n"
     ]
    }
   ],
   "source": [
    "help(main)"
   ]
  },
  {
   "cell_type": "code",
   "execution_count": 48,
   "id": "f5ebe0e0",
   "metadata": {},
   "outputs": [
    {
     "name": "stdout",
     "output_type": "stream",
     "text": [
      "['night']\n"
     ]
    }
   ],
   "source": [
    "# Main function that returns a list of possible words\n",
    "good_letters = 'T'\n",
    "letter_positions = [5]\n",
    "yellow_letters = 'HN'\n",
    "bad_letters = 'CRAESOU'\n",
    "\n",
    "# Main function that returns a list of possible words\n",
    "main(good_letters, letter_positions, yellow_letters, bad_letters)"
   ]
  },
  {
   "cell_type": "markdown",
   "id": "daf84cd1",
   "metadata": {
    "tags": []
   },
   "source": [
    "#### Good words:\n",
    "SALET, CRANE, SHOUT, AUDIO, SLICE, SLICK, SPLIT, STUDY, INCUR, CHOIR, CROWN, CROWD, CRONE, POISE, OLIVE, DUNCE, BINGO, BISON"
   ]
  },
  {
   "cell_type": "code",
   "execution_count": 49,
   "id": "41906170",
   "metadata": {},
   "outputs": [],
   "source": [
    "# BERTH, ETHER"
   ]
  },
  {
   "cell_type": "code",
   "execution_count": 50,
   "id": "afb26a55",
   "metadata": {},
   "outputs": [
    {
     "name": "stdout",
     "output_type": "stream",
     "text": [
      "['admin', 'admit', 'denim', 'dimly', 'humid', 'idiom', 'media', 'medic', 'midge', 'midst', 'timid']\n"
     ]
    }
   ],
   "source": [
    "# Main function that returns a list of possible words\n",
    "good_letters = ''\n",
    "letter_positions = []\n",
    "yellow_letters = 'DMI'\n",
    "bad_letters = ''\n",
    "\n",
    "# Main function that returns a list of possible words\n",
    "main(good_letters, letter_positions, yellow_letters, bad_letters)"
   ]
  },
  {
   "cell_type": "code",
   "execution_count": 51,
   "id": "c0d8d4f3",
   "metadata": {},
   "outputs": [],
   "source": [
    "# help(score)"
   ]
  },
  {
   "cell_type": "code",
   "execution_count": 52,
   "id": "3b63affa",
   "metadata": {},
   "outputs": [
    {
     "data": {
      "text/html": [
       "<div>\n",
       "<style scoped>\n",
       "    .dataframe tbody tr th:only-of-type {\n",
       "        vertical-align: middle;\n",
       "    }\n",
       "\n",
       "    .dataframe tbody tr th {\n",
       "        vertical-align: top;\n",
       "    }\n",
       "\n",
       "    .dataframe thead th {\n",
       "        text-align: right;\n",
       "    }\n",
       "</style>\n",
       "<table border=\"1\" class=\"dataframe\">\n",
       "  <thead>\n",
       "    <tr style=\"text-align: right;\">\n",
       "      <th></th>\n",
       "      <th>Names</th>\n",
       "      <th>Games_Won</th>\n",
       "      <th>Draw</th>\n",
       "    </tr>\n",
       "  </thead>\n",
       "  <tbody>\n",
       "    <tr>\n",
       "      <th>0</th>\n",
       "      <td>Murilo</td>\n",
       "      <td>9</td>\n",
       "      <td>4</td>\n",
       "    </tr>\n",
       "    <tr>\n",
       "      <th>1</th>\n",
       "      <td>Barbara</td>\n",
       "      <td>2</td>\n",
       "      <td>4</td>\n",
       "    </tr>\n",
       "  </tbody>\n",
       "</table>\n",
       "</div>"
      ],
      "text/plain": [
       "     Names  Games_Won  Draw\n",
       "0   Murilo          9     4\n",
       "1  Barbara          2     4"
      ]
     },
     "execution_count": 52,
     "metadata": {},
     "output_type": "execute_result"
    }
   ],
   "source": [
    "df = load_data(file_name='wordle_ranking.csv')\n",
    "df"
   ]
  },
  {
   "cell_type": "code",
   "execution_count": 53,
   "id": "fba0abce",
   "metadata": {},
   "outputs": [
    {
     "name": "stdin",
     "output_type": "stream",
     "text": [
      "Who won the game? Murilo, Barbara, or Draw? \t\t\n",
      "Enter 'M' if Murilo won. \t\t\n",
      "Enter 'B' if Barbara won. \t\t\n",
      "Enter 'D' if it was a Draw. \t\t\n",
      "Please enter [M/B/D] B\n"
     ]
    },
    {
     "data": {
      "text/html": [
       "<div>\n",
       "<style scoped>\n",
       "    .dataframe tbody tr th:only-of-type {\n",
       "        vertical-align: middle;\n",
       "    }\n",
       "\n",
       "    .dataframe tbody tr th {\n",
       "        vertical-align: top;\n",
       "    }\n",
       "\n",
       "    .dataframe thead th {\n",
       "        text-align: right;\n",
       "    }\n",
       "</style>\n",
       "<table border=\"1\" class=\"dataframe\">\n",
       "  <thead>\n",
       "    <tr style=\"text-align: right;\">\n",
       "      <th></th>\n",
       "      <th>Names</th>\n",
       "      <th>Games_Won</th>\n",
       "      <th>Draw</th>\n",
       "    </tr>\n",
       "  </thead>\n",
       "  <tbody>\n",
       "    <tr>\n",
       "      <th>0</th>\n",
       "      <td>Murilo</td>\n",
       "      <td>9</td>\n",
       "      <td>4</td>\n",
       "    </tr>\n",
       "    <tr>\n",
       "      <th>1</th>\n",
       "      <td>Barbara</td>\n",
       "      <td>3</td>\n",
       "      <td>4</td>\n",
       "    </tr>\n",
       "  </tbody>\n",
       "</table>\n",
       "</div>"
      ],
      "text/plain": [
       "     Names  Games_Won  Draw\n",
       "0   Murilo          9     4\n",
       "1  Barbara          3     4"
      ]
     },
     "execution_count": 53,
     "metadata": {},
     "output_type": "execute_result"
    }
   ],
   "source": [
    "# Update score\n",
    "score_df = score()\n",
    "score_df"
   ]
  },
  {
   "cell_type": "code",
   "execution_count": 54,
   "id": "fe06a2cd",
   "metadata": {},
   "outputs": [
    {
     "name": "stdout",
     "output_type": "stream",
     "text": [
      "  Names  Games_Won  Draw\n",
      " Murilo          9     4\n",
      "Barbara          3     4\n"
     ]
    }
   ],
   "source": [
    "# Print results\n",
    "print(score_df.to_string(index=False))"
   ]
  },
  {
   "cell_type": "code",
   "execution_count": 55,
   "id": "d729d309",
   "metadata": {},
   "outputs": [],
   "source": [
    "# help(reset_score)"
   ]
  },
  {
   "cell_type": "markdown",
   "id": "19e3413e",
   "metadata": {},
   "source": [
    "#### Set custom score"
   ]
  },
  {
   "cell_type": "code",
   "execution_count": 56,
   "id": "1662f165",
   "metadata": {},
   "outputs": [],
   "source": [
    "# Set custom score\n",
    "# df = set_score(m_score, b_score, draw)\n",
    "# df"
   ]
  },
  {
   "cell_type": "markdown",
   "id": "4d4adaf5",
   "metadata": {},
   "source": [
    "#### Reset score"
   ]
  },
  {
   "cell_type": "code",
   "execution_count": 57,
   "id": "1ca02bb5",
   "metadata": {},
   "outputs": [],
   "source": [
    "# Reset score\n",
    "# reset_score()"
   ]
  },
  {
   "cell_type": "code",
   "execution_count": null,
   "id": "8e71597e",
   "metadata": {},
   "outputs": [],
   "source": []
  }
 ],
 "metadata": {
  "kernelspec": {
   "display_name": "Python 3",
   "language": "python",
   "name": "python3"
  },
  "language_info": {
   "codemirror_mode": {
    "name": "ipython",
    "version": 3
   },
   "file_extension": ".py",
   "mimetype": "text/x-python",
   "name": "python",
   "nbconvert_exporter": "python",
   "pygments_lexer": "ipython3",
   "version": "3.7.10"
  }
 },
 "nbformat": 4,
 "nbformat_minor": 5
}
