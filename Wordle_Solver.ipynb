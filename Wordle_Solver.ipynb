{
 "cells": [
  {
   "cell_type": "markdown",
   "id": "d3afc5a9-64e3-4678-a890-2338f4271094",
   "metadata": {},
   "source": [
    "# Wordle Solver"
   ]
  },
  {
   "cell_type": "code",
   "execution_count": 1,
   "id": "fa2313ce-8726-45c8-a1d6-7f330fbb33b4",
   "metadata": {},
   "outputs": [],
   "source": [
    "%run -i wordle_functions.py"
   ]
  },
  {
   "cell_type": "code",
   "execution_count": 2,
   "id": "491bac3f-8624-43ba-a6c9-bf819dd88a3f",
   "metadata": {},
   "outputs": [
    {
     "name": "stdout",
     "output_type": "stream",
     "text": [
      "Help on function main in module __main__:\n",
      "\n",
      "main(good_letters, letter_positions, yellow_letters, bad_letters)\n",
      "    Function takes  4 arguments:\n",
      "    1. good_letters --> string that represents green letters in wordle guess\n",
      "    2. letter_positions --> list of the positions of the good_letters ranging from 1 to 5\n",
      "    3. yellow_letters --> string that represents yellow letters in wordle guess\n",
      "    4. bad_letters --> string that represents gray letters in wordle guess\n",
      "\n"
     ]
    }
   ],
   "source": [
    "help(main)"
   ]
  },
  {
   "cell_type": "code",
   "execution_count": 3,
   "id": "7af30c9f-82d6-4268-bbc0-963a08777f75",
   "metadata": {},
   "outputs": [
    {
     "name": "stdout",
     "output_type": "stream",
     "text": [
      "['clove', 'voice']\n"
     ]
    }
   ],
   "source": [
    "# Main function that returns a list of possible words\n",
    "good_letters = 'E'\n",
    "letter_positions = [5]\n",
    "yellow_letters = 'CO'\n",
    "bad_letters = 'RANSHUT'\n",
    "\n",
    "# Main function that returns a list of possible words\n",
    "main(good_letters, letter_positions, yellow_letters, bad_letters)"
   ]
  },
  {
   "cell_type": "markdown",
   "id": "b7e6ce6c-d65a-42cf-a1a0-fff85458dc4e",
   "metadata": {
    "tags": []
   },
   "source": [
    "#### Good words:\n",
    "SALET, CRANE, SHOUT, AUDIO, SLICE, SLICK, SPLIT, STUDY, INCUR, CHOIR, CROWN, CROWD, CRONE, POISE, OLIVE, DUNCE, BINGO, BISON"
   ]
  },
  {
   "cell_type": "code",
   "execution_count": 4,
   "id": "5811fb4d-00e7-4789-a6b1-bb3611b54dbd",
   "metadata": {},
   "outputs": [],
   "source": [
    "# SERIF, SEVER, SEWER, SKIER, SPERM"
   ]
  },
  {
   "cell_type": "code",
   "execution_count": 5,
   "id": "d9fe18cf-ce49-4dcb-bf55-e54cfb94f71f",
   "metadata": {},
   "outputs": [
    {
     "name": "stdout",
     "output_type": "stream",
     "text": [
      "['digit', 'dingy', 'dying', 'giddy', 'gland', 'grand', 'grind', 'rigid']\n"
     ]
    }
   ],
   "source": [
    "# Main function that returns a list of possible words\n",
    "good_letters = ''\n",
    "letter_positions = []\n",
    "yellow_letters = 'DG'\n",
    "bad_letters = 'OUE'\n",
    "\n",
    "# Main function that returns a list of possible words\n",
    "main(good_letters, letter_positions, yellow_letters, bad_letters)"
   ]
  },
  {
   "cell_type": "code",
   "execution_count": 6,
   "id": "1816c804-2da2-446e-b69b-fada267c5b5c",
   "metadata": {},
   "outputs": [],
   "source": [
    "# help(score)"
   ]
  },
  {
   "cell_type": "code",
   "execution_count": 7,
   "id": "dbb9a3b5-7150-42f8-88b3-59149d94e54a",
   "metadata": {},
   "outputs": [
    {
     "data": {
      "text/html": [
       "<div>\n",
       "<style scoped>\n",
       "    .dataframe tbody tr th:only-of-type {\n",
       "        vertical-align: middle;\n",
       "    }\n",
       "\n",
       "    .dataframe tbody tr th {\n",
       "        vertical-align: top;\n",
       "    }\n",
       "\n",
       "    .dataframe thead th {\n",
       "        text-align: right;\n",
       "    }\n",
       "</style>\n",
       "<table border=\"1\" class=\"dataframe\">\n",
       "  <thead>\n",
       "    <tr style=\"text-align: right;\">\n",
       "      <th></th>\n",
       "      <th>Names</th>\n",
       "      <th>Games_Won</th>\n",
       "      <th>Draw</th>\n",
       "    </tr>\n",
       "  </thead>\n",
       "  <tbody>\n",
       "    <tr>\n",
       "      <th>0</th>\n",
       "      <td>Murilo</td>\n",
       "      <td>7</td>\n",
       "      <td>2</td>\n",
       "    </tr>\n",
       "    <tr>\n",
       "      <th>1</th>\n",
       "      <td>Barbara</td>\n",
       "      <td>2</td>\n",
       "      <td>2</td>\n",
       "    </tr>\n",
       "  </tbody>\n",
       "</table>\n",
       "</div>"
      ],
      "text/plain": [
       "     Names  Games_Won  Draw\n",
       "0   Murilo          7     2\n",
       "1  Barbara          2     2"
      ]
     },
     "execution_count": 7,
     "metadata": {},
     "output_type": "execute_result"
    }
   ],
   "source": [
    "df = load_data(file_name='wordle_ranking.csv')\n",
    "df"
   ]
  },
  {
   "cell_type": "code",
   "execution_count": 8,
   "id": "46609a0e-8907-4fd7-84c1-c83940d7800b",
   "metadata": {},
   "outputs": [
    {
     "name": "stdin",
     "output_type": "stream",
     "text": [
      "Who won the game? Murilo, Barbara, or Draw? \t\t\n",
      "Enter 'M' if Murilo won. \t\t\n",
      "Enter 'B' if Barbara won. \t\t\n",
      "Enter 'D' if it was a Draw. \t\t\n",
      "Please enter [M/B/D] D\n"
     ]
    },
    {
     "data": {
      "text/html": [
       "<div>\n",
       "<style scoped>\n",
       "    .dataframe tbody tr th:only-of-type {\n",
       "        vertical-align: middle;\n",
       "    }\n",
       "\n",
       "    .dataframe tbody tr th {\n",
       "        vertical-align: top;\n",
       "    }\n",
       "\n",
       "    .dataframe thead th {\n",
       "        text-align: right;\n",
       "    }\n",
       "</style>\n",
       "<table border=\"1\" class=\"dataframe\">\n",
       "  <thead>\n",
       "    <tr style=\"text-align: right;\">\n",
       "      <th></th>\n",
       "      <th>Names</th>\n",
       "      <th>Games_Won</th>\n",
       "      <th>Draw</th>\n",
       "    </tr>\n",
       "  </thead>\n",
       "  <tbody>\n",
       "    <tr>\n",
       "      <th>0</th>\n",
       "      <td>Murilo</td>\n",
       "      <td>7</td>\n",
       "      <td>3</td>\n",
       "    </tr>\n",
       "    <tr>\n",
       "      <th>1</th>\n",
       "      <td>Barbara</td>\n",
       "      <td>2</td>\n",
       "      <td>3</td>\n",
       "    </tr>\n",
       "  </tbody>\n",
       "</table>\n",
       "</div>"
      ],
      "text/plain": [
       "     Names  Games_Won  Draw\n",
       "0   Murilo          7     3\n",
       "1  Barbara          2     3"
      ]
     },
     "execution_count": 8,
     "metadata": {},
     "output_type": "execute_result"
    }
   ],
   "source": [
    "# Update score\n",
    "score_df = score()\n",
    "score_df"
   ]
  },
  {
   "cell_type": "code",
   "execution_count": 9,
   "id": "eb927b96-8298-4d78-b05d-039339982903",
   "metadata": {},
   "outputs": [
    {
     "name": "stdout",
     "output_type": "stream",
     "text": [
      "  Names  Games_Won  Draw\n",
      " Murilo          7     3\n",
      "Barbara          2     3\n"
     ]
    }
   ],
   "source": [
    "# Print results\n",
    "print(score_df.to_string(index=False))"
   ]
  },
  {
   "cell_type": "code",
   "execution_count": 10,
   "id": "d15d0f78-9496-44e9-8bf0-8af92a8bff2e",
   "metadata": {},
   "outputs": [],
   "source": [
    "# help(reset_score)"
   ]
  },
  {
   "cell_type": "markdown",
   "id": "6f4b65a8-552c-46bb-90bb-2c96a4897ae9",
   "metadata": {},
   "source": [
    "#### Set custom score"
   ]
  },
  {
   "cell_type": "code",
   "execution_count": 11,
   "id": "42a1f0af-7941-4775-a230-8746505f40bb",
   "metadata": {},
   "outputs": [],
   "source": [
    "# Set custom score\n",
    "# df = set_score(m_score, b_score, draw)\n",
    "# df"
   ]
  },
  {
   "cell_type": "markdown",
   "id": "a67d8a2a-33ab-44f7-8d99-d7a7af4cee2e",
   "metadata": {},
   "source": [
    "#### Reset score"
   ]
  },
  {
   "cell_type": "code",
   "execution_count": 12,
   "id": "5ed7e683-d1a9-4e53-aba5-2b2ae51156e5",
   "metadata": {},
   "outputs": [],
   "source": [
    "# Reset score\n",
    "# reset_score()"
   ]
  },
  {
   "cell_type": "code",
   "execution_count": null,
   "id": "e82ddb71-385f-4c17-aebf-a2791d95dde0",
   "metadata": {},
   "outputs": [],
   "source": []
  }
 ],
 "metadata": {
  "kernelspec": {
   "display_name": "Python 3 (ipykernel)",
   "language": "python",
   "name": "python3"
  },
  "language_info": {
   "codemirror_mode": {
    "name": "ipython",
    "version": 3
   },
   "file_extension": ".py",
   "mimetype": "text/x-python",
   "name": "python",
   "nbconvert_exporter": "python",
   "pygments_lexer": "ipython3",
   "version": "3.9.12"
  }
 },
 "nbformat": 4,
 "nbformat_minor": 5
}
